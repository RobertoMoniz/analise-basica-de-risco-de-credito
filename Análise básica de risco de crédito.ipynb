{
 "cells": [
  {
   "cell_type": "code",
   "execution_count": 17,
   "id": "629fc800",
   "metadata": {},
   "outputs": [
    {
     "data": {
      "text/html": [
       "<div>\n",
       "<style scoped>\n",
       "    .dataframe tbody tr th:only-of-type {\n",
       "        vertical-align: middle;\n",
       "    }\n",
       "\n",
       "    .dataframe tbody tr th {\n",
       "        vertical-align: top;\n",
       "    }\n",
       "\n",
       "    .dataframe thead th {\n",
       "        text-align: right;\n",
       "    }\n",
       "</style>\n",
       "<table border=\"1\" class=\"dataframe\">\n",
       "  <thead>\n",
       "    <tr style=\"text-align: right;\">\n",
       "      <th></th>\n",
       "      <th>V1</th>\n",
       "      <th>V2</th>\n",
       "      <th>V3</th>\n",
       "      <th>V4</th>\n",
       "      <th>V5</th>\n",
       "      <th>V6</th>\n",
       "      <th>V7</th>\n",
       "      <th>V8</th>\n",
       "      <th>V9</th>\n",
       "      <th>V10</th>\n",
       "      <th>...</th>\n",
       "      <th>V21</th>\n",
       "      <th>V22</th>\n",
       "      <th>V23</th>\n",
       "      <th>V24</th>\n",
       "      <th>V25</th>\n",
       "      <th>V26</th>\n",
       "      <th>V27</th>\n",
       "      <th>V28</th>\n",
       "      <th>Amount</th>\n",
       "      <th>Class</th>\n",
       "    </tr>\n",
       "  </thead>\n",
       "  <tbody>\n",
       "    <tr>\n",
       "      <th>0</th>\n",
       "      <td>-6.677212</td>\n",
       "      <td>5.529299</td>\n",
       "      <td>-7.193275</td>\n",
       "      <td>6.081321</td>\n",
       "      <td>-1.636071</td>\n",
       "      <td>0.500610</td>\n",
       "      <td>-4.640770</td>\n",
       "      <td>-4.339840</td>\n",
       "      <td>-0.950036</td>\n",
       "      <td>0.566680</td>\n",
       "      <td>...</td>\n",
       "      <td>5.563301</td>\n",
       "      <td>-1.608272</td>\n",
       "      <td>0.965322</td>\n",
       "      <td>0.163718</td>\n",
       "      <td>0.047531</td>\n",
       "      <td>0.466165</td>\n",
       "      <td>0.278547</td>\n",
       "      <td>1.471988</td>\n",
       "      <td>105.89</td>\n",
       "      <td>1</td>\n",
       "    </tr>\n",
       "    <tr>\n",
       "      <th>1</th>\n",
       "      <td>1.378559</td>\n",
       "      <td>1.289381</td>\n",
       "      <td>-5.004247</td>\n",
       "      <td>1.411850</td>\n",
       "      <td>0.442581</td>\n",
       "      <td>-1.326536</td>\n",
       "      <td>-1.413170</td>\n",
       "      <td>0.248525</td>\n",
       "      <td>-1.127396</td>\n",
       "      <td>-3.232153</td>\n",
       "      <td>...</td>\n",
       "      <td>0.370612</td>\n",
       "      <td>0.028234</td>\n",
       "      <td>-0.145640</td>\n",
       "      <td>-0.081049</td>\n",
       "      <td>0.521875</td>\n",
       "      <td>0.739467</td>\n",
       "      <td>0.389152</td>\n",
       "      <td>0.186637</td>\n",
       "      <td>0.76</td>\n",
       "      <td>1</td>\n",
       "    </tr>\n",
       "    <tr>\n",
       "      <th>2</th>\n",
       "      <td>-4.446847</td>\n",
       "      <td>-0.014793</td>\n",
       "      <td>-5.126307</td>\n",
       "      <td>6.945130</td>\n",
       "      <td>5.269255</td>\n",
       "      <td>-4.297177</td>\n",
       "      <td>-2.591242</td>\n",
       "      <td>0.342671</td>\n",
       "      <td>-3.880663</td>\n",
       "      <td>-3.976525</td>\n",
       "      <td>...</td>\n",
       "      <td>0.247913</td>\n",
       "      <td>-0.049586</td>\n",
       "      <td>-0.226017</td>\n",
       "      <td>-0.401236</td>\n",
       "      <td>0.856124</td>\n",
       "      <td>0.661272</td>\n",
       "      <td>0.492560</td>\n",
       "      <td>0.971834</td>\n",
       "      <td>1.00</td>\n",
       "      <td>1</td>\n",
       "    </tr>\n",
       "    <tr>\n",
       "      <th>3</th>\n",
       "      <td>-1.309441</td>\n",
       "      <td>1.786495</td>\n",
       "      <td>-1.371070</td>\n",
       "      <td>1.214335</td>\n",
       "      <td>-0.336642</td>\n",
       "      <td>-1.390120</td>\n",
       "      <td>-1.709109</td>\n",
       "      <td>0.667748</td>\n",
       "      <td>-1.699809</td>\n",
       "      <td>-3.843911</td>\n",
       "      <td>...</td>\n",
       "      <td>0.533521</td>\n",
       "      <td>-0.022180</td>\n",
       "      <td>-0.299556</td>\n",
       "      <td>-0.226416</td>\n",
       "      <td>0.364360</td>\n",
       "      <td>-0.475102</td>\n",
       "      <td>0.571426</td>\n",
       "      <td>0.293426</td>\n",
       "      <td>1.00</td>\n",
       "      <td>1</td>\n",
       "    </tr>\n",
       "    <tr>\n",
       "      <th>4</th>\n",
       "      <td>0.206075</td>\n",
       "      <td>1.387360</td>\n",
       "      <td>-1.045287</td>\n",
       "      <td>4.228686</td>\n",
       "      <td>-1.647549</td>\n",
       "      <td>-0.180897</td>\n",
       "      <td>-2.943678</td>\n",
       "      <td>0.859156</td>\n",
       "      <td>-1.181743</td>\n",
       "      <td>-3.096504</td>\n",
       "      <td>...</td>\n",
       "      <td>0.469199</td>\n",
       "      <td>0.344930</td>\n",
       "      <td>-0.203799</td>\n",
       "      <td>0.376640</td>\n",
       "      <td>0.715485</td>\n",
       "      <td>0.226003</td>\n",
       "      <td>0.628545</td>\n",
       "      <td>0.319918</td>\n",
       "      <td>0.76</td>\n",
       "      <td>1</td>\n",
       "    </tr>\n",
       "  </tbody>\n",
       "</table>\n",
       "<p>5 rows × 30 columns</p>\n",
       "</div>"
      ],
      "text/plain": [
       "         V1        V2        V3        V4        V5        V6        V7  \\\n",
       "0 -6.677212  5.529299 -7.193275  6.081321 -1.636071  0.500610 -4.640770   \n",
       "1  1.378559  1.289381 -5.004247  1.411850  0.442581 -1.326536 -1.413170   \n",
       "2 -4.446847 -0.014793 -5.126307  6.945130  5.269255 -4.297177 -2.591242   \n",
       "3 -1.309441  1.786495 -1.371070  1.214335 -0.336642 -1.390120 -1.709109   \n",
       "4  0.206075  1.387360 -1.045287  4.228686 -1.647549 -0.180897 -2.943678   \n",
       "\n",
       "         V8        V9       V10  ...       V21       V22       V23       V24  \\\n",
       "0 -4.339840 -0.950036  0.566680  ...  5.563301 -1.608272  0.965322  0.163718   \n",
       "1  0.248525 -1.127396 -3.232153  ...  0.370612  0.028234 -0.145640 -0.081049   \n",
       "2  0.342671 -3.880663 -3.976525  ...  0.247913 -0.049586 -0.226017 -0.401236   \n",
       "3  0.667748 -1.699809 -3.843911  ...  0.533521 -0.022180 -0.299556 -0.226416   \n",
       "4  0.859156 -1.181743 -3.096504  ...  0.469199  0.344930 -0.203799  0.376640   \n",
       "\n",
       "        V25       V26       V27       V28  Amount  Class  \n",
       "0  0.047531  0.466165  0.278547  1.471988  105.89      1  \n",
       "1  0.521875  0.739467  0.389152  0.186637    0.76      1  \n",
       "2  0.856124  0.661272  0.492560  0.971834    1.00      1  \n",
       "3  0.364360 -0.475102  0.571426  0.293426    1.00      1  \n",
       "4  0.715485  0.226003  0.628545  0.319918    0.76      1  \n",
       "\n",
       "[5 rows x 30 columns]"
      ]
     },
     "execution_count": 17,
     "metadata": {},
     "output_type": "execute_result"
    }
   ],
   "source": [
    "import pandas as pd\n",
    "from sklearn.linear_model import LogisticRegression\n",
    "from sklearn.model_selection import cross_validate\n",
    "from sklearn.preprocessing import MinMaxScaler\n",
    "import seaborn as sns\n",
    "import warnings\n",
    "warnings.filterwarnings('ignore')\n",
    "warnings.warn('DelftStack')\n",
    "warnings.warn('Do not show this message')\n",
    "\n",
    "df = pd.read_csv('ML_creditcard_fraud.csv')\n",
    "df.head()"
   ]
  },
  {
   "cell_type": "code",
   "execution_count": 2,
   "id": "1ae1b510",
   "metadata": {},
   "outputs": [
    {
     "data": {
      "text/plain": [
       "206"
      ]
     },
     "execution_count": 2,
     "metadata": {},
     "output_type": "execute_result"
    }
   ],
   "source": [
    "df.duplicated().sum()"
   ]
  },
  {
   "cell_type": "code",
   "execution_count": 3,
   "id": "05bd00f9",
   "metadata": {},
   "outputs": [],
   "source": [
    "df.drop_duplicates(inplace=True)"
   ]
  },
  {
   "cell_type": "code",
   "execution_count": 4,
   "id": "707924cc",
   "metadata": {},
   "outputs": [
    {
     "data": {
      "text/plain": [
       "0"
      ]
     },
     "execution_count": 4,
     "metadata": {},
     "output_type": "execute_result"
    }
   ],
   "source": [
    "df.duplicated().sum()"
   ]
  },
  {
   "cell_type": "code",
   "execution_count": 5,
   "id": "8a1fe5bf",
   "metadata": {},
   "outputs": [
    {
     "data": {
      "text/plain": [
       "V1        0\n",
       "V2        0\n",
       "V3        0\n",
       "V4        0\n",
       "V5        0\n",
       "V6        0\n",
       "V7        0\n",
       "V8        0\n",
       "V9        0\n",
       "V10       0\n",
       "V11       0\n",
       "V12       0\n",
       "V13       0\n",
       "V14       0\n",
       "V15       0\n",
       "V16       0\n",
       "V17       0\n",
       "V18       0\n",
       "V19       0\n",
       "V20       0\n",
       "V21       0\n",
       "V22       0\n",
       "V23       0\n",
       "V24       0\n",
       "V25       0\n",
       "V26       0\n",
       "V27       0\n",
       "V28       0\n",
       "Amount    0\n",
       "Class     0\n",
       "dtype: int64"
      ]
     },
     "execution_count": 5,
     "metadata": {},
     "output_type": "execute_result"
    }
   ],
   "source": [
    "df.isna().sum()"
   ]
  },
  {
   "cell_type": "code",
   "execution_count": 6,
   "id": "d931b70a",
   "metadata": {},
   "outputs": [
    {
     "data": {
      "image/png": "[encoded data removed]",
      "text/plain": [
       "<Figure size 640x480 with 2 Axes>"
      ]
     },
     "metadata": {},
     "output_type": "display_data"
    }
   ],
   "source": [
    "sns.heatmap(df.corr(), cmap=\"crest\");"
   ]
  },
  {
   "cell_type": "code",
   "execution_count": 7,
   "id": "9dffcae8",
   "metadata": {},
   "outputs": [],
   "source": [
    "X = df.drop(columns='Class')\n",
    "y = df.Class"
   ]
  },
  {
   "cell_type": "code",
   "execution_count": 9,
   "id": "5178b0a1",
   "metadata": {},
   "outputs": [],
   "source": [
    "minmaxscaler = MinMaxScaler()\n",
    "logreg = LogisticRegression()"
   ]
  },
  {
   "cell_type": "code",
   "execution_count": 55,
   "id": "c098ab5b",
   "metadata": {},
   "outputs": [
    {
     "data": {
      "text/plain": [
       "LogisticRegression()"
      ]
     },
     "execution_count": 55,
     "metadata": {},
     "output_type": "execute_result"
    }
   ],
   "source": [
    "X_scaler = minmaxscaler.fit_transform(X)\n",
    "logreg.fit(X, y)"
   ]
  },
  {
   "cell_type": "code",
   "execution_count": 52,
   "id": "312dd7d6",
   "metadata": {
    "scrolled": true
   },
   "outputs": [
    {
     "data": {
      "text/html": [
       "<div>\n",
       "<style scoped>\n",
       "    .dataframe tbody tr th:only-of-type {\n",
       "        vertical-align: middle;\n",
       "    }\n",
       "\n",
       "    .dataframe tbody tr th {\n",
       "        vertical-align: top;\n",
       "    }\n",
       "\n",
       "    .dataframe thead th {\n",
       "        text-align: right;\n",
       "    }\n",
       "</style>\n",
       "<table border=\"1\" class=\"dataframe\">\n",
       "  <thead>\n",
       "    <tr style=\"text-align: right;\">\n",
       "      <th></th>\n",
       "      <th>fit_time</th>\n",
       "      <th>score_time</th>\n",
       "      <th>test_max_error</th>\n",
       "      <th>test_r2</th>\n",
       "      <th>test_neg_mean_absolute_error</th>\n",
       "      <th>test_neg_mean_squared_error</th>\n",
       "      <th>test_accuracy</th>\n",
       "    </tr>\n",
       "  </thead>\n",
       "  <tbody>\n",
       "    <tr>\n",
       "      <th>0</th>\n",
       "      <td>0.088948</td>\n",
       "      <td>0.001997</td>\n",
       "      <td>-1</td>\n",
       "      <td>0.198583</td>\n",
       "      <td>-0.001415</td>\n",
       "      <td>-0.001415</td>\n",
       "      <td>0.998585</td>\n",
       "    </tr>\n",
       "    <tr>\n",
       "      <th>1</th>\n",
       "      <td>0.060963</td>\n",
       "      <td>0.001999</td>\n",
       "      <td>-1</td>\n",
       "      <td>0.198583</td>\n",
       "      <td>-0.001415</td>\n",
       "      <td>-0.001415</td>\n",
       "      <td>0.998585</td>\n",
       "    </tr>\n",
       "    <tr>\n",
       "      <th>2</th>\n",
       "      <td>0.060963</td>\n",
       "      <td>0.001998</td>\n",
       "      <td>-1</td>\n",
       "      <td>0.098406</td>\n",
       "      <td>-0.001592</td>\n",
       "      <td>-0.001592</td>\n",
       "      <td>0.998408</td>\n",
       "    </tr>\n",
       "    <tr>\n",
       "      <th>3</th>\n",
       "      <td>0.058964</td>\n",
       "      <td>0.001999</td>\n",
       "      <td>-1</td>\n",
       "      <td>0.298760</td>\n",
       "      <td>-0.001238</td>\n",
       "      <td>-0.001238</td>\n",
       "      <td>0.998762</td>\n",
       "    </tr>\n",
       "    <tr>\n",
       "      <th>4</th>\n",
       "      <td>0.078951</td>\n",
       "      <td>0.001999</td>\n",
       "      <td>-1</td>\n",
       "      <td>-0.001594</td>\n",
       "      <td>-0.001592</td>\n",
       "      <td>-0.001592</td>\n",
       "      <td>0.998408</td>\n",
       "    </tr>\n",
       "  </tbody>\n",
       "</table>\n",
       "</div>"
      ],
      "text/plain": [
       "   fit_time  score_time  test_max_error   test_r2  \\\n",
       "0  0.088948    0.001997              -1  0.198583   \n",
       "1  0.060963    0.001999              -1  0.198583   \n",
       "2  0.060963    0.001998              -1  0.098406   \n",
       "3  0.058964    0.001999              -1  0.298760   \n",
       "4  0.078951    0.001999              -1 -0.001594   \n",
       "\n",
       "   test_neg_mean_absolute_error  test_neg_mean_squared_error  test_accuracy  \n",
       "0                     -0.001415                    -0.001415       0.998585  \n",
       "1                     -0.001415                    -0.001415       0.998585  \n",
       "2                     -0.001592                    -0.001592       0.998408  \n",
       "3                     -0.001238                    -0.001238       0.998762  \n",
       "4                     -0.001592                    -0.001592       0.998408  "
      ]
     },
     "execution_count": 52,
     "metadata": {},
     "output_type": "execute_result"
    }
   ],
   "source": [
    "cv_results = cross_validate(logreg, X_scaler, y, cv=5, \n",
    "                            scoring=['max_error',\n",
    "                                     'r2', \n",
    "                                     'neg_mean_absolute_error',\n",
    "                                     'neg_mean_squared_error',\n",
    "                                     'accuracy']\n",
    "                           )\n",
    "pd.DataFrame(cv_results)"
   ]
  },
  {
   "cell_type": "code",
   "execution_count": 56,
   "id": "5305d399",
   "metadata": {},
   "outputs": [
    {
     "data": {
      "text/plain": [
       "0.9992926613616269"
      ]
     },
     "execution_count": 56,
     "metadata": {},
     "output_type": "execute_result"
    }
   ],
   "source": [
    "logreg.score(X, y)"
   ]
  },
  {
   "cell_type": "code",
   "execution_count": 57,
   "id": "bd93ab5d",
   "metadata": {},
   "outputs": [
    {
     "data": {
      "text/plain": [
       "{'fit_time': array([0.08894753, 0.06096268, 0.06096268, 0.05896401, 0.07895112]),\n",
       " 'score_time': array([0.00199723, 0.0019989 , 0.00199842, 0.0019989 , 0.00199866]),\n",
       " 'test_max_error': array([-1, -1, -1, -1, -1]),\n",
       " 'test_r2': array([ 0.19858282,  0.19858282,  0.09840567,  0.29875996, -0.00159405]),\n",
       " 'test_neg_mean_absolute_error': array([-0.00141468, -0.00141468, -0.00159151, -0.00123784, -0.00159151]),\n",
       " 'test_neg_mean_squared_error': array([-0.00141468, -0.00141468, -0.00159151, -0.00123784, -0.00159151]),\n",
       " 'test_accuracy': array([0.99858532, 0.99858532, 0.99840849, 0.99876216, 0.99840849])}"
      ]
     },
     "execution_count": 57,
     "metadata": {},
     "output_type": "execute_result"
    }
   ],
   "source": [
    "cv_results"
   ]
  }
 ],
 "metadata": {
  "kernelspec": {
   "display_name": "Python 3 (ipykernel)",
   "language": "python",
   "name": "python3"
  },
  "language_info": {
   "codemirror_mode": {
    "name": "ipython",
    "version": 3
   },
   "file_extension": ".py",
   "mimetype": "text/x-python",
   "name": "python",
   "nbconvert_exporter": "python",
   "pygments_lexer": "ipython3",
   "version": "3.9.13"
  }
 },
 "nbformat": 4,
 "nbformat_minor": 5
}
